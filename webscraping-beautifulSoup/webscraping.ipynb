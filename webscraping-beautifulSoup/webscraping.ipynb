{
 "cells": [
  {
   "cell_type": "code",
   "execution_count": 2,
   "id": "241cc489-61be-457a-b378-5b0c0305d094",
   "metadata": {},
   "outputs": [],
   "source": [
    "import pandas as pd\n",
    "import requests\n",
    "from bs4 import BeautifulSoup"
   ]
  },
  {
   "cell_type": "code",
   "execution_count": 24,
   "id": "35870c0c-70f4-4cf6-ac45-001adb149017",
   "metadata": {},
   "outputs": [],
   "source": [
    "soup = BeautifulSoup(webpage, 'lxml')"
   ]
  },
  {
   "cell_type": "code",
   "execution_count": 25,
   "id": "8132445a-f5f8-4877-a8c8-6e7c19b02d64",
   "metadata": {},
   "outputs": [],
   "source": [
    "book = soup.find_all('li', class_='col-xs-6 col-sm-4 col-md-3 col-lg-3')"
   ]
  },
  {
   "cell_type": "code",
   "execution_count": 26,
   "id": "f01418ef-113d-4f39-b79b-5ea685ddbda9",
   "metadata": {},
   "outputs": [
    {
     "data": {
      "text/plain": [
       "20"
      ]
     },
     "execution_count": 26,
     "metadata": {},
     "output_type": "execute_result"
    }
   ],
   "source": [
    "len(book)"
   ]
  },
  {
   "cell_type": "code",
   "execution_count": 40,
   "id": "a1ab71e7-0dc6-4c91-8f1f-d7204631bab4",
   "metadata": {},
   "outputs": [],
   "source": []
  },
  {
   "cell_type": "code",
   "execution_count": 61,
   "id": "10ab2d6a-f37e-46eb-92eb-474124db60e1",
   "metadata": {},
   "outputs": [],
   "source": [
    "import requests\n",
    "import pandas as pd\n",
    "from bs4 import BeautifulSoup\n",
    "\n",
    "final = pd.DataFrame()\n",
    "\n",
    "for j in range(1, 50):\n",
    "    url = 'https://books.toscrape.com/catalogue/page-{}.html'.format(j)\n",
    "    headers = {\n",
    "        'User-Agent': 'Mozilla/5.0 (Windows NT 10.0; Win64; x64) AppleWebKit/537.36 (KHTML, like Gecko) Chrome/90.0.4430.85 Safari/537.36',\n",
    "        'Accept-Language': 'en-US,en;q=0.9',\n",
    "        'Accept-Encoding': 'gzip, deflate, br',\n",
    "        'Connection': 'keep-alive',\n",
    "    }\n",
    "    response = requests.get(url, headers=headers)\n",
    "    response.encoding = 'utf-8'  # Force UTF-8 encoding\n",
    "    webpage = response.text\n",
    "    soup = BeautifulSoup(webpage, 'lxml')\n",
    "    book = soup.find_all('li', class_='col-xs-6 col-sm-4 col-md-3 col-lg-3')\n",
    "\n",
    "    name = []\n",
    "    price = []\n",
    "    image = []\n",
    "\n",
    "    for i in book:\n",
    "        name.append(i.find('h3').text)\n",
    "        price.append(i.find('p', class_='price_color').text)\n",
    "        img_src = i.find('img')['src']\n",
    "        absolute_img_url = requests.compat.urljoin('https://books.toscrape.com/', img_src)\n",
    "        image.append(absolute_img_url)\n",
    "\n",
    "    # Create a DataFrame for the current page\n",
    "    d = {'name': name, 'price': price, 'url': image}\n",
    "    df = pd.DataFrame(d)\n",
    "\n",
    "    # Concatenate the current DataFrame with the final DataFrame\n",
    "    final = pd.concat([final, df], ignore_index=True)"
   ]
  },
  {
   "cell_type": "code",
   "execution_count": 62,
   "id": "8575226a-ce60-48e6-8d16-74601b9038a0",
   "metadata": {},
   "outputs": [
    {
     "data": {
      "text/html": [
       "<div>\n",
       "<style scoped>\n",
       "    .dataframe tbody tr th:only-of-type {\n",
       "        vertical-align: middle;\n",
       "    }\n",
       "\n",
       "    .dataframe tbody tr th {\n",
       "        vertical-align: top;\n",
       "    }\n",
       "\n",
       "    .dataframe thead th {\n",
       "        text-align: right;\n",
       "    }\n",
       "</style>\n",
       "<table border=\"1\" class=\"dataframe\">\n",
       "  <thead>\n",
       "    <tr style=\"text-align: right;\">\n",
       "      <th></th>\n",
       "      <th>name</th>\n",
       "      <th>price</th>\n",
       "      <th>url</th>\n",
       "    </tr>\n",
       "  </thead>\n",
       "  <tbody>\n",
       "    <tr>\n",
       "      <th>0</th>\n",
       "      <td>A Light in the ...</td>\n",
       "      <td>£51.77</td>\n",
       "      <td>https://books.toscrape.com/media/cache/2c/da/2...</td>\n",
       "    </tr>\n",
       "    <tr>\n",
       "      <th>1</th>\n",
       "      <td>Tipping the Velvet</td>\n",
       "      <td>£53.74</td>\n",
       "      <td>https://books.toscrape.com/media/cache/26/0c/2...</td>\n",
       "    </tr>\n",
       "    <tr>\n",
       "      <th>2</th>\n",
       "      <td>Soumission</td>\n",
       "      <td>£50.10</td>\n",
       "      <td>https://books.toscrape.com/media/cache/3e/ef/3...</td>\n",
       "    </tr>\n",
       "    <tr>\n",
       "      <th>3</th>\n",
       "      <td>Sharp Objects</td>\n",
       "      <td>£47.82</td>\n",
       "      <td>https://books.toscrape.com/media/cache/32/51/3...</td>\n",
       "    </tr>\n",
       "    <tr>\n",
       "      <th>4</th>\n",
       "      <td>Sapiens: A Brief History ...</td>\n",
       "      <td>£54.23</td>\n",
       "      <td>https://books.toscrape.com/media/cache/be/a5/b...</td>\n",
       "    </tr>\n",
       "    <tr>\n",
       "      <th>...</th>\n",
       "      <td>...</td>\n",
       "      <td>...</td>\n",
       "      <td>...</td>\n",
       "    </tr>\n",
       "    <tr>\n",
       "      <th>975</th>\n",
       "      <td>Icing (Aces Hockey #2)</td>\n",
       "      <td>£40.44</td>\n",
       "      <td>https://books.toscrape.com/media/cache/8d/1e/8...</td>\n",
       "    </tr>\n",
       "    <tr>\n",
       "      <th>976</th>\n",
       "      <td>Hawkeye, Vol. 1: My ...</td>\n",
       "      <td>£45.24</td>\n",
       "      <td>https://books.toscrape.com/media/cache/16/46/1...</td>\n",
       "    </tr>\n",
       "    <tr>\n",
       "      <th>977</th>\n",
       "      <td>Having the Barbarian's Baby ...</td>\n",
       "      <td>£34.96</td>\n",
       "      <td>https://books.toscrape.com/media/cache/f4/83/f...</td>\n",
       "    </tr>\n",
       "    <tr>\n",
       "      <th>978</th>\n",
       "      <td>Giant Days, Vol. 1 ...</td>\n",
       "      <td>£56.76</td>\n",
       "      <td>https://books.toscrape.com/media/cache/35/0b/3...</td>\n",
       "    </tr>\n",
       "    <tr>\n",
       "      <th>979</th>\n",
       "      <td>Fruits Basket, Vol. 1 ...</td>\n",
       "      <td>£40.28</td>\n",
       "      <td>https://books.toscrape.com/media/cache/7c/c1/7...</td>\n",
       "    </tr>\n",
       "  </tbody>\n",
       "</table>\n",
       "<p>980 rows × 3 columns</p>\n",
       "</div>"
      ],
      "text/plain": [
       "                                name   price  \\\n",
       "0                 A Light in the ...  £51.77   \n",
       "1                 Tipping the Velvet  £53.74   \n",
       "2                         Soumission  £50.10   \n",
       "3                      Sharp Objects  £47.82   \n",
       "4       Sapiens: A Brief History ...  £54.23   \n",
       "..                               ...     ...   \n",
       "975           Icing (Aces Hockey #2)  £40.44   \n",
       "976          Hawkeye, Vol. 1: My ...  £45.24   \n",
       "977  Having the Barbarian's Baby ...  £34.96   \n",
       "978           Giant Days, Vol. 1 ...  £56.76   \n",
       "979        Fruits Basket, Vol. 1 ...  £40.28   \n",
       "\n",
       "                                                   url  \n",
       "0    https://books.toscrape.com/media/cache/2c/da/2...  \n",
       "1    https://books.toscrape.com/media/cache/26/0c/2...  \n",
       "2    https://books.toscrape.com/media/cache/3e/ef/3...  \n",
       "3    https://books.toscrape.com/media/cache/32/51/3...  \n",
       "4    https://books.toscrape.com/media/cache/be/a5/b...  \n",
       "..                                                 ...  \n",
       "975  https://books.toscrape.com/media/cache/8d/1e/8...  \n",
       "976  https://books.toscrape.com/media/cache/16/46/1...  \n",
       "977  https://books.toscrape.com/media/cache/f4/83/f...  \n",
       "978  https://books.toscrape.com/media/cache/35/0b/3...  \n",
       "979  https://books.toscrape.com/media/cache/7c/c1/7...  \n",
       "\n",
       "[980 rows x 3 columns]"
      ]
     },
     "execution_count": 62,
     "metadata": {},
     "output_type": "execute_result"
    }
   ],
   "source": [
    "final"
   ]
  },
  {
   "cell_type": "code",
   "execution_count": null,
   "id": "3817a618-81d0-4336-866e-d2fffa203374",
   "metadata": {},
   "outputs": [],
   "source": []
  }
 ],
 "metadata": {
  "kernelspec": {
   "display_name": "Python 3 (ipykernel)",
   "language": "python",
   "name": "python3"
  },
  "language_info": {
   "codemirror_mode": {
    "name": "ipython",
    "version": 3
   },
   "file_extension": ".py",
   "mimetype": "text/x-python",
   "name": "python",
   "nbconvert_exporter": "python",
   "pygments_lexer": "ipython3",
   "version": "3.12.3"
  }
 },
 "nbformat": 4,
 "nbformat_minor": 5
}
