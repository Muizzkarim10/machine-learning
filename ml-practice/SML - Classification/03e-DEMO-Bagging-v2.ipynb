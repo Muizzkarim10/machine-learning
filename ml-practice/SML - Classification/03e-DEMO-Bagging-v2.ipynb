{
 "cells": [
  {
   "cell_type": "code",
   "execution_count": null,
   "id": "6b4da693-497d-415a-94cd-28f5aea5c39b",
   "metadata": {},
   "outputs": [],
   "source": [
    "def warn(*args, **kwargs):\n",
    "    pass\n",
    "import warnings\n",
    "warnings.warn = warn\n",
    "\n",
    "import pandas as pd, numpy as np, matplotlib.pyplot as plt, seaborn as sns"
   ]
  },
  {
   "cell_type": "markdown",
   "id": "1e638313-51a4-4f83-8434-d13d4fb4349e",
   "metadata": {},
   "source": [
    "<h2 id = \"Setup\"> Part 1: Setup </h2>\n",
    "\n",
    "*   The raw churndata has been setup as a variable 'churndata', and we have imported it above.\n",
    "*   We will rely on the data preprocessing from the KNN lab, which is captured in the file 'churndata_processed.csv'\n",
    "*   First, import that file and examine its contents.\n",
    "*   Output summary statistics and check variable data types\n",
    "*   Using Seaborn, plot a heatmap of variable correlations\n"
   ]
  },
  {
   "cell_type": "code",
   "execution_count": null,
   "id": "8f181e44-0d7f-45c5-9b54-2ff5bce92e7e",
   "metadata": {},
   "outputs": [],
   "source": [
    "data = pd.read_csv(\"https://cf-courses-data.s3.us.cloud-object-storage.appdomain.cloud/IBM-ML241EN-SkillsNetwork/labs/datasets/churndata_processed.csv\")"
   ]
  },
  {
   "cell_type": "code",
   "execution_count": null,
   "id": "57762e19-a034-418d-a019-cbbc27c70dd4",
   "metadata": {},
   "outputs": [],
   "source": [
    "data.head()"
   ]
  },
  {
   "cell_type": "code",
   "execution_count": null,
   "id": "5022a0f3-507c-4b3c-ae1e-6961c7f3fbc9",
   "metadata": {},
   "outputs": [],
   "source": [
    "round(data.describe().T, 2)"
   ]
  },
  {
   "cell_type": "code",
   "execution_count": null,
   "id": "4128634d-2d69-4ce5-a15a-38e755a3bf80",
   "metadata": {},
   "outputs": [],
   "source": [
    "data.dtypes"
   ]
  },
  {
   "cell_type": "markdown",
   "id": "b5e9aa45-f76a-4665-822f-0ab078153c8e",
   "metadata": {},
   "source": [
    "Let's plot a heatmap to examine feature correlations. Very light cells indicate high positive correlation, while very dark cells indicate high negative correlation.\n"
   ]
  },
  {
   "cell_type": "code",
   "execution_count": null,
   "id": "86c8b9a7-985a-415a-9564-9db725e7e6ed",
   "metadata": {},
   "outputs": [],
   "source": [
    "fig, ax = plt.subplots(figsize=(15,10)) \n",
    "sns.heatmap(data.corr())"
   ]
  },
  {
   "cell_type": "markdown",
   "id": "72118d29-259f-4fb4-a1aa-781f02f85089",
   "metadata": {},
   "source": [
    "<h2 id=\"TargPreproc\">Part 2: Examining the Target and Preprocessing</h2>\n",
    "\n",
    "In this exercise, we will proceed as follows:\n",
    "\n",
    "*   Examine distribution of the predicted variable (`churn_value`).\n",
    "*   Split the data into train and test sets. Decide if a stratified split should be used or not based on the distribution.\n",
    "*   Examine the distribution of the predictor variable in the train and test data.\n"
   ]
  },
  {
   "cell_type": "code",
   "execution_count": null,
   "id": "68d2585f-8d65-4a7d-8c61-21e9d75c183e",
   "metadata": {},
   "outputs": [],
   "source": [
    "# Data are skewed at ~85% towards non-churned customers\n",
    "# This will be important to remember when model building\n",
    "target = 'churn_value'\n",
    "data[target].value_counts()"
   ]
  },
  {
   "cell_type": "code",
   "execution_count": null,
   "id": "8e6f1d79-4782-4112-853d-02459baa68b1",
   "metadata": {},
   "outputs": [],
   "source": [
    "data[target].value_counts(normalize=True)"
   ]
  },
  {
   "cell_type": "markdown",
   "id": "6ad4435a-3306-407f-b014-b7f9dce3411f",
   "metadata": {},
   "source": [
    "Given the skew in the predictor variable, let's split the data with the *churned* values being stratified to ensure that the test and train sets have similar distributions.\n"
   ]
  },
  {
   "cell_type": "code",
   "execution_count": null,
   "id": "a5c1a6b3-646e-422b-bad9-0675fbfcf326",
   "metadata": {},
   "outputs": [],
   "source": [
    "from sklearn.model_selection import StratifiedShuffleSplit\n",
    "\n",
    "\n",
    "feature_cols = [x for x in data.columns if x != target]\n",
    "\n",
    "\n",
    "# Split the data into two parts with 1500 points in the test data\n",
    "# This creates a generator\n",
    "strat_shuff_split = StratifiedShuffleSplit(n_splits=1, test_size=1500, random_state=42)\n",
    "\n",
    "# Get the index values from the generator\n",
    "train_idx, test_idx = next(strat_shuff_split.split(data[feature_cols], data[target]))\n",
    "\n",
    "# Create the data sets\n",
    "X_train = data.loc[train_idx, feature_cols]\n",
    "y_train = data.loc[train_idx, target]\n",
    "\n",
    "X_test = data.loc[test_idx, feature_cols]\n",
    "y_test = data.loc[test_idx, target]"
   ]
  },
  {
   "cell_type": "markdown",
   "id": "991bf7a5-e178-4668-95d8-b54a9cea9185",
   "metadata": {},
   "source": [
    "Let's check the distributions:\n"
   ]
  },
  {
   "cell_type": "code",
   "execution_count": null,
   "id": "050d2a2c-37fe-4e0a-b6c9-2a9cc985f739",
   "metadata": {},
   "outputs": [],
   "source": [
    "y_train.value_counts(normalize=True)"
   ]
  },
  {
   "cell_type": "code",
   "execution_count": null,
   "id": "1fa8173e-debb-4c2e-874f-e80deb8cacd9",
   "metadata": {},
   "outputs": [],
   "source": [
    "y_test.value_counts(normalize=True)"
   ]
  },
  {
   "cell_type": "markdown",
   "id": "8a1e0ff0-19f3-4794-b8b9-44cecd0caf50",
   "metadata": {},
   "source": [
    "<h2 id =\"OOB\">Part 3: Random Forest and Out-of-bag(oob) Error</h2>\n",
    "\n",
    "In this exercise, we will:\n",
    "\n",
    "*   Fit random forest models with a range of tree numbers and evaluate the out-of-bag error for each of these models.\n",
    "*   Plot the resulting oob errors as a function of the number of trees.\n",
    "\n",
    "*Note:* since the only thing changing is the number of trees, the `warm_start` flag can be used so that the model just adds more trees to the existing model each time. Use the `set_params` method to update the number of trees.\n"
   ]
  },
  {
   "cell_type": "code",
   "execution_count": null,
   "id": "543ab6ed-7910-42dd-8046-129e11547eb0",
   "metadata": {},
   "outputs": [],
   "source": [
    "# Suppress warnings about too few trees from the early models\n",
    "import warnings\n",
    "warnings.filterwarnings(\"ignore\", category=UserWarning)\n",
    "warnings.filterwarnings(\"ignore\", category=RuntimeWarning)"
   ]
  },
  {
   "cell_type": "code",
   "execution_count": null,
   "id": "4026dcb9-ca2a-49e9-baa3-e7f0fdaf7e35",
   "metadata": {},
   "outputs": [],
   "source": [
    "from sklearn.ensemble import RandomForestClassifier\n",
    "\n",
    "# Initialize the random forest estimator\n",
    "# Note that the number of trees is not setup here\n",
    "RF = RandomForestClassifier(oob_score=True, \n",
    "                            random_state=42, \n",
    "                            warm_start=True,\n",
    "                            n_jobs=-1)\n",
    "\n",
    "oob_list = list()\n",
    "\n",
    "# Iterate through all of the possibilities for \n",
    "# number of trees\n",
    "for n_trees in [15, 20, 30, 40, 50, 100, 150, 200, 300, 400]:\n",
    "    \n",
    "    # Use this to set the number of trees\n",
    "    RF.set_params(n_estimators=n_trees)\n",
    "\n",
    "    # Fit the model\n",
    "    RF.fit(X_train, y_train)\n",
    "\n",
    "    # Get the oob error\n",
    "    oob_error = 1 - RF.oob_score_\n",
    "    \n",
    "    # Store it\n",
    "    oob_list.append(pd.Series({'n_trees': n_trees, 'oob': oob_error}))\n",
    "\n",
    "rf_oob_df = pd.concat(oob_list, axis=1).T.set_index('n_trees')\n",
    "\n",
    "rf_oob_df"
   ]
  },
  {
   "cell_type": "markdown",
   "id": "4b74e4fe-f2cd-4075-b2cb-fe40069b3b6f",
   "metadata": {},
   "source": [
    "The error looks like it has stabilized around 100-150 trees.\n"
   ]
  },
  {
   "cell_type": "code",
   "execution_count": null,
   "id": "344c4efe-be49-4385-adc1-01075faa936e",
   "metadata": {},
   "outputs": [],
   "source": [
    "import matplotlib.pyplot as plt\n",
    "import seaborn as sns\n",
    "\n",
    "%matplotlib inline"
   ]
  },
  {
   "cell_type": "code",
   "execution_count": null,
   "id": "342d8ccf-dd16-4997-adbb-2eb77e328cbe",
   "metadata": {},
   "outputs": [],
   "source": [
    "sns.set_context('talk')\n",
    "sns.set_style('white')\n",
    "\n",
    "ax = rf_oob_df.plot(legend=False, marker='o', figsize=(14, 7), linewidth=5)\n",
    "ax.set(ylabel='out-of-bag error');"
   ]
  },
  {
   "cell_type": "markdown",
   "id": "1f2e8acf-612b-4b06-9a83-1edc1aab638c",
   "metadata": {},
   "source": [
    "<h2 id = \"ExtraTrees\">Part 4: Extra Trees</h2>\n",
    "\n",
    "Our exercise:\n",
    "\n",
    "*   Repeat question 3 using extra randomized trees (`ExtraTreesClassifier`). Note that the `bootstrap` parameter will have to be set to `True` for this model.\n",
    "*   Compare the out-of-bag errors for the two different types of models.\n"
   ]
  },
  {
   "cell_type": "code",
   "execution_count": null,
   "id": "a2ec6a8a-212b-4d70-b8d7-ff525f6a7b8c",
   "metadata": {},
   "outputs": [],
   "source": [
    "from sklearn.ensemble import ExtraTreesClassifier\n",
    "\n",
    "# Initialize the random forest estimator\n",
    "# Note that the number of trees is not setup here\n",
    "EF = ExtraTreesClassifier(oob_score=True, \n",
    "                          random_state=42, \n",
    "                          warm_start=True,\n",
    "                          bootstrap=True,\n",
    "                          n_jobs=-1)\n",
    "\n",
    "oob_list = list()\n",
    "\n",
    "# Iterate through all of the possibilities for \n",
    "# number of trees\n",
    "for n_trees in [15, 20, 30, 40, 50, 100, 150, 200, 300, 400]:\n",
    "    \n",
    "    # Use this to set the number of trees\n",
    "    EF.set_params(n_estimators=n_trees)\n",
    "    EF.fit(X_train, y_train)\n",
    "\n",
    "    # oob error\n",
    "    oob_error = 1 - EF.oob_score_\n",
    "    oob_list.append(pd.Series({'n_trees': n_trees, 'oob': oob_error}))\n",
    "\n",
    "et_oob_df = pd.concat(oob_list, axis=1).T.set_index('n_trees')\n",
    "\n",
    "et_oob_df"
   ]
  },
  {
   "cell_type": "markdown",
   "id": "c888454c-9e55-4f29-9ac6-a1736f3fd059",
   "metadata": {},
   "source": [
    "Combine the two dataframes into a single one for easier plotting.\n"
   ]
  },
  {
   "cell_type": "code",
   "execution_count": null,
   "id": "c884e029-a402-422e-9e75-15b8d5aa238f",
   "metadata": {},
   "outputs": [],
   "source": [
    "oob_df = pd.concat([rf_oob_df.rename(columns={'oob':'RandomForest'}),\n",
    "                    et_oob_df.rename(columns={'oob':'ExtraTrees'})], axis=1)\n",
    "\n",
    "oob_df"
   ]
  },
  {
   "cell_type": "markdown",
   "id": "445400a4-0c13-4275-b390-7738390bdaf9",
   "metadata": {},
   "source": [
    "The random forest model performs consistently better than the extra randomized trees.\n"
   ]
  },
  {
   "cell_type": "code",
   "execution_count": null,
   "id": "25ec813e-ee76-4e4f-9363-96c491ff2d1b",
   "metadata": {},
   "outputs": [],
   "source": [
    "sns.set_context('talk')\n",
    "sns.set_style('white')\n",
    "\n",
    "ax = oob_df.plot(marker='o', figsize=(14, 7), linewidth=5)\n",
    "ax.set(ylabel='out-of-bag error');"
   ]
  },
  {
   "cell_type": "markdown",
   "id": "eddc751e-a57b-4817-81c2-ba100a52a142",
   "metadata": {},
   "source": [
    "<h2 id=\"results\">Part 5: Gathering Results</h2>\n",
    "\n",
    "Here, we will:\n",
    "\n",
    "*   Select one of the models that performs well and calculate error metrics and a confusion matrix on the test data set.\n",
    "*   Given the distribution of the predicted class, which metric is most important? Which could be deceiving?\n"
   ]
  },
  {
   "cell_type": "code",
   "execution_count": null,
   "id": "2e65b6e1-7a46-41c0-b7d7-809f944d07b2",
   "metadata": {},
   "outputs": [],
   "source": [
    "# Random forest with 100 estimators\n",
    "model = RF.set_params(n_estimators=100)\n",
    "\n",
    "y_pred = model.predict(X_test)"
   ]
  },
  {
   "cell_type": "markdown",
   "id": "f6d79a6e-d371-4412-abfa-96ed2169f726",
   "metadata": {},
   "source": [
    "Unsurprisingly, recall is rather poor for the customers who churned (True) class since they are quite small. We are doing better than random guessing, though, as the accuracy is 0.94 (vs 0.85 for random guessing).\n"
   ]
  },
  {
   "cell_type": "code",
   "execution_count": null,
   "id": "d0b21619-22e4-486b-973b-e656aac943fb",
   "metadata": {},
   "outputs": [],
   "source": [
    "from sklearn.metrics import classification_report, accuracy_score, precision_score, recall_score\n",
    "from sklearn.metrics import f1_score, roc_auc_score\n",
    "\n",
    "cr = classification_report(y_test, y_pred)\n",
    "print(cr)\n",
    "\n",
    "score_df = pd.DataFrame({'accuracy': accuracy_score(y_test, y_pred),\n",
    "                         'precision': precision_score(y_test, y_pred),\n",
    "                         'recall': recall_score(y_test, y_pred),\n",
    "                         'f1': f1_score(y_test, y_pred),\n",
    "                         'auc': roc_auc_score(y_test, y_pred)},\n",
    "                         index=pd.Index([0]))\n",
    "\n",
    "print(score_df)"
   ]
  },
  {
   "cell_type": "markdown",
   "id": "c935049e-f6d8-4656-9265-ed7fda761726",
   "metadata": {},
   "source": [
    "<h2 id=\"examineRes\">Part 6: Examining Results</h2>\n",
    "\n",
    "The following exercises will help us examine results:\n",
    "\n",
    "*   Print or visualize the confusion matrix.\n",
    "*   Plot the ROC-AUC and precision-recall curves.\n",
    "*   Plot the feature importances.\n"
   ]
  },
  {
   "cell_type": "code",
   "execution_count": null,
   "id": "53339b99-e7b7-4552-8ddd-cf2fba143972",
   "metadata": {},
   "outputs": [],
   "source": [
    "from sklearn.metrics import roc_curve, precision_recall_curve, confusion_matrix,ConfusionMatrixDisplay\n",
    "\n",
    "sns.set_context('talk')\n",
    "cm = confusion_matrix(y_test, y_pred,normalize='true')\n",
    "disp = ConfusionMatrixDisplay(confusion_matrix=cm,display_labels=model.classes_)\n",
    "disp.plot()\n",
    "plt.show()"
   ]
  },
  {
   "cell_type": "markdown",
   "id": "36364b3c-4182-469a-8828-5da1f71e1fc4",
   "metadata": {},
   "source": [
    "The ROC-AUC and precision-recall curves.\n"
   ]
  },
  {
   "cell_type": "code",
   "execution_count": null,
   "id": "9e4f4010-4010-42fc-8843-49b04c476e3c",
   "metadata": {},
   "outputs": [],
   "source": [
    "sns.set_context('talk')\n",
    "\n",
    "fig, axList = plt.subplots(ncols=2)\n",
    "fig.set_size_inches(16, 8)\n",
    "\n",
    "# Get the probabilities for each of the two categories\n",
    "y_prob = model.predict_proba(X_test)\n",
    "\n",
    "# Plot the ROC-AUC curve\n",
    "ax = axList[0]\n",
    "\n",
    "fpr, tpr, thresholds = roc_curve(y_test, y_prob[:,1])\n",
    "ax.plot(fpr, tpr, linewidth=5)\n",
    "# It is customary to draw a diagonal dotted line in ROC plots.\n",
    "# This is to indicate completely random prediction. Deviation from this\n",
    "# dotted line towards the upper left corner signifies the power of the model.\n",
    "ax.plot([0, 1], [0, 1], ls='--', color='black', lw=.3)\n",
    "ax.set(xlabel='False Positive Rate',\n",
    "       ylabel='True Positive Rate',\n",
    "       xlim=[-.01, 1.01], ylim=[-.01, 1.01],\n",
    "       title='ROC curve')\n",
    "ax.grid(True)\n",
    "\n",
    "# Plot the precision-recall curve\n",
    "ax = axList[1]\n",
    "\n",
    "precision, recall, _ = precision_recall_curve(y_test, y_prob[:,1])\n",
    "ax.plot(recall, precision, linewidth=5)\n",
    "ax.set(xlabel='Recall', ylabel='Precision',\n",
    "       xlim=[-.01, 1.01], ylim=[-.01, 1.01],\n",
    "       title='Precision-Recall curve')\n",
    "ax.grid(True)\n",
    "\n",
    "plt.tight_layout()"
   ]
  },
  {
   "cell_type": "markdown",
   "id": "b0b23076-357e-48ba-b53b-50fa0d627e57",
   "metadata": {},
   "source": [
    "Now, let's look into the importance of features. Apparently, \"satisfaction\" is the most significant predictor of customer churn.\n"
   ]
  },
  {
   "cell_type": "code",
   "execution_count": null,
   "id": "54e7c959-cc04-4f6e-ba6e-fdfbbcc67e15",
   "metadata": {},
   "outputs": [],
   "source": [
    "feature_imp = pd.Series(model.feature_importances_, index=feature_cols).sort_values(ascending=False)\n",
    "\n",
    "fig, ax = plt.subplots(figsize=(16, 6))\n",
    "ax.pie(feature_imp, labels=None, autopct=lambda pct: '{:1.1f}%'.format(pct) if pct > 5.5 else '')\n",
    "ax.set(ylabel='Relative Importance')\n",
    "ax.set(xlabel='Feature')\n",
    "\n",
    "# Adjust the layout to prevent label overlapping\n",
    "plt.tight_layout()\n",
    "\n",
    "# Move the legend outside the chart\n",
    "plt.legend(loc='center left', bbox_to_anchor=(1, 0.5),labels=feature_imp.index)\n",
    "\n",
    "plt.show()"
   ]
  }
 ],
 "metadata": {
  "kernelspec": {
   "display_name": "Python 3 (ipykernel)",
   "language": "python",
   "name": "python3"
  },
  "language_info": {
   "codemirror_mode": {
    "name": "ipython",
    "version": 3
   },
   "file_extension": ".py",
   "mimetype": "text/x-python",
   "name": "python",
   "nbconvert_exporter": "python",
   "pygments_lexer": "ipython3",
   "version": "3.11.9"
  },
  "prev_pub_hash": "90fea0b3c6454147763fff5928a702bec3c2bdaedb0d5b936d1b4202903cd2aa"
 },
 "nbformat": 4,
 "nbformat_minor": 4
}
